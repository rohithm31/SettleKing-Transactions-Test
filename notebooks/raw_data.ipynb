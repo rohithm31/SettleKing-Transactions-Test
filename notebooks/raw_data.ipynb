{
 "cells": [
  {
   "cell_type": "code",
   "execution_count": 1,
   "id": "edd04166",
   "metadata": {},
   "outputs": [],
   "source": [
    "import pandas as pd\n",
    "\n",
    "import os\n",
    "\n",
    "import numpy as np"
   ]
  },
  {
   "cell_type": "code",
   "execution_count": 2,
   "id": "78b38530",
   "metadata": {},
   "outputs": [],
   "source": [
    "# reading the csv files\n",
    "\n",
    "account_data_path = r\"C:\\Users\\rohit\\Desktop\\SettleKing_SQL\\accountactivitydesensitized.csv\"\n",
    "\n",
    "creditcard_data_path = r\"C:\\Users\\rohit\\Desktop\\SettleKing_SQL\\CreditCard11.csv\"\n",
    "\n",
    "merch_data = r\"C:\\Users\\rohit\\Desktop\\SettleKing_SQL\\Merchat_Categories.csv\""
   ]
  },
  {
   "cell_type": "code",
   "execution_count": 3,
   "id": "4d1ff960",
   "metadata": {},
   "outputs": [],
   "source": [
    "account_columns = [\"Date\",\"Amount\",\"drop\",\"Cheque_Number\",\"Description\"]\n",
    "\n",
    "creditcard_columns = [\"Date\",\"Amount\",\"drop_1\",\"drop_2\",\"Description\"]"
   ]
  },
  {
   "cell_type": "code",
   "execution_count": 4,
   "id": "ea342c5e",
   "metadata": {},
   "outputs": [],
   "source": [
    "account_activity_df = pd.read_csv(account_data_path,names = account_columns, header = None)\n",
    "\n",
    "creditcard_df = pd.read_csv(creditcard_data_path,names = creditcard_columns, header = None)\n",
    "\n",
    "merch_df = pd.read_csv(merch_data)"
   ]
  },
  {
   "cell_type": "code",
   "execution_count": 5,
   "id": "a0ff61fd",
   "metadata": {},
   "outputs": [
    {
     "name": "stdout",
     "output_type": "stream",
     "text": [
      "Information on Account Activity Data\n",
      "\n",
      "<class 'pandas.core.frame.DataFrame'>\n",
      "RangeIndex: 118 entries, 0 to 117\n",
      "Data columns (total 5 columns):\n",
      " #   Column         Non-Null Count  Dtype  \n",
      "---  ------         --------------  -----  \n",
      " 0   Date           99 non-null     object \n",
      " 1   Amount         99 non-null     float64\n",
      " 2   drop           99 non-null     object \n",
      " 3   Cheque_Number  9 non-null      float64\n",
      " 4   Description    99 non-null     object \n",
      "dtypes: float64(2), object(3)\n",
      "memory usage: 4.7+ KB\n",
      "None \n",
      "\n",
      "----------------------------------\n",
      "\n",
      "Descritpion of Account Activity Data\n",
      "\n",
      "              Amount  Cheque_Number\n",
      "count      99.000000       9.000000\n",
      "mean    -1220.551414     118.333333\n",
      "std     13874.732425       5.000000\n",
      "min   -100000.000000     113.000000\n",
      "25%     -3687.500000     115.000000\n",
      "50%      -900.000000     117.000000\n",
      "75%        48.370000     119.000000\n",
      "max     50000.000000     127.000000\n"
     ]
    }
   ],
   "source": [
    "print(\"Information on Account Activity Data\\n\")\n",
    "\n",
    "print(account_activity_df.info(),\"\\n\")\n",
    "\n",
    "print(\"----------------------------------\\n\")\n",
    "\n",
    "print(\"Descritpion of Account Activity Data\\n\")\n",
    "\n",
    "print(account_activity_df.describe())"
   ]
  },
  {
   "cell_type": "code",
   "execution_count": 6,
   "id": "85e99b6e",
   "metadata": {},
   "outputs": [
    {
     "name": "stdout",
     "output_type": "stream",
     "text": [
      "Information on Credit Card Data\n",
      "\n",
      "<class 'pandas.core.frame.DataFrame'>\n",
      "RangeIndex: 212 entries, 0 to 211\n",
      "Data columns (total 5 columns):\n",
      " #   Column       Non-Null Count  Dtype  \n",
      "---  ------       --------------  -----  \n",
      " 0   Date         212 non-null    object \n",
      " 1   Amount       212 non-null    float64\n",
      " 2   drop_1       212 non-null    object \n",
      " 3   drop_2       0 non-null      float64\n",
      " 4   Description  212 non-null    object \n",
      "dtypes: float64(2), object(3)\n",
      "memory usage: 8.4+ KB\n",
      "None \n",
      "\n",
      "----------------------------------\n",
      "\n",
      "Descritpion of Credit Card Data\n",
      "\n",
      "            Amount  drop_2\n",
      "count   212.000000     0.0\n",
      "mean    -30.215377     NaN\n",
      "std     623.218113     NaN\n",
      "min   -4445.250000     NaN\n",
      "25%    -109.552500     NaN\n",
      "50%     -35.715000     NaN\n",
      "75%     -10.992500     NaN\n",
      "max    3500.000000     NaN\n"
     ]
    }
   ],
   "source": [
    "print(\"Information on Credit Card Data\\n\")\n",
    "\n",
    "print(creditcard_df.info(),\"\\n\")\n",
    "\n",
    "print(\"----------------------------------\\n\")\n",
    "\n",
    "print(\"Descritpion of Credit Card Data\\n\")\n",
    "\n",
    "print(creditcard_df.describe())"
   ]
  },
  {
   "cell_type": "code",
   "execution_count": 7,
   "id": "0dfbad75",
   "metadata": {},
   "outputs": [],
   "source": [
    "account_activity_df = account_activity_df.drop(\"drop\", axis = 1)\n",
    "\n",
    "account_activity_df = account_activity_df.dropna(how = \"all\")\n",
    "\n",
    "account_activity_df[\"Date\"] = pd.to_datetime(account_activity_df[\"Date\"])\n",
    "\n",
    "account_activity_df[\"Cheque_Number\"] = account_activity_df[\"Cheque_Number\"].astype(\"Int64\")\n"
   ]
  },
  {
   "cell_type": "code",
   "execution_count": 8,
   "id": "aefc2846",
   "metadata": {},
   "outputs": [],
   "source": [
    "creditcard_df = creditcard_df.drop([\"drop_1\",\"drop_2\"], axis = 1)\n",
    "\n",
    "creditcard_df = creditcard_df.dropna(how = \"all\")\n",
    "\n",
    "creditcard_df[\"Date\"] = pd.to_datetime(creditcard_df[\"Date\"])"
   ]
  },
  {
   "cell_type": "code",
   "execution_count": 9,
   "id": "13bc808a",
   "metadata": {},
   "outputs": [],
   "source": [
    "# 1 for credit and 0 from debit.\n",
    "\n",
    "account_activity_df[\"Transaction_Type\"] = account_activity_df[\"Amount\"].map(lambda x: 1 if x > 0 else 0)\n",
    "\n",
    "# 1 for payment to card and 0 is payment to card.\n",
    "\n",
    "creditcard_df[\"Transaction_Type\"] = creditcard_df[\"Amount\"].map(lambda x: 1 if x < 0 else 0)"
   ]
  },
  {
   "cell_type": "code",
   "execution_count": 10,
   "id": "b03cfcb5",
   "metadata": {},
   "outputs": [
    {
     "data": {
      "text/html": [
       "<div>\n",
       "<style scoped>\n",
       "    .dataframe tbody tr th:only-of-type {\n",
       "        vertical-align: middle;\n",
       "    }\n",
       "\n",
       "    .dataframe tbody tr th {\n",
       "        vertical-align: top;\n",
       "    }\n",
       "\n",
       "    .dataframe thead th {\n",
       "        text-align: right;\n",
       "    }\n",
       "</style>\n",
       "<table border=\"1\" class=\"dataframe\">\n",
       "  <thead>\n",
       "    <tr style=\"text-align: right;\">\n",
       "      <th></th>\n",
       "      <th>Date</th>\n",
       "      <th>Amount</th>\n",
       "      <th>Cheque_Number</th>\n",
       "      <th>Description</th>\n",
       "      <th>Transaction_Type</th>\n",
       "    </tr>\n",
       "  </thead>\n",
       "  <tbody>\n",
       "    <tr>\n",
       "      <th>0</th>\n",
       "      <td>2024-07-24</td>\n",
       "      <td>-217.67</td>\n",
       "      <td>&lt;NA&gt;</td>\n",
       "      <td>STATE FARM RO 27 SFPP 15 S 1074398715 SV</td>\n",
       "      <td>0</td>\n",
       "    </tr>\n",
       "    <tr>\n",
       "      <th>1</th>\n",
       "      <td>2024-07-24</td>\n",
       "      <td>-7500.00</td>\n",
       "      <td>&lt;NA&gt;</td>\n",
       "      <td>ONLINE TRANSFER REF #IB0NYCH2M4 TO VISA SIGNAT...</td>\n",
       "      <td>0</td>\n",
       "    </tr>\n",
       "    <tr>\n",
       "      <th>3</th>\n",
       "      <td>2024-07-24</td>\n",
       "      <td>-3875.00</td>\n",
       "      <td>&lt;NA&gt;</td>\n",
       "      <td>ONLINE TRANSFER TO 9LLABS LLC REF #IB0NYCGZRL ...</td>\n",
       "      <td>0</td>\n",
       "    </tr>\n",
       "    <tr>\n",
       "      <th>5</th>\n",
       "      <td>2024-07-18</td>\n",
       "      <td>-330.00</td>\n",
       "      <td>127</td>\n",
       "      <td>DEPOSITED OR CASHED CHECK # 127</td>\n",
       "      <td>0</td>\n",
       "    </tr>\n",
       "    <tr>\n",
       "      <th>7</th>\n",
       "      <td>2024-07-08</td>\n",
       "      <td>-9975.00</td>\n",
       "      <td>&lt;NA&gt;</td>\n",
       "      <td>ONLINE TRANSFER TO 9LLABS LLC REF #IB0NSKMG2J ...</td>\n",
       "      <td>0</td>\n",
       "    </tr>\n",
       "  </tbody>\n",
       "</table>\n",
       "</div>"
      ],
      "text/plain": [
       "        Date   Amount  Cheque_Number  \\\n",
       "0 2024-07-24  -217.67           <NA>   \n",
       "1 2024-07-24 -7500.00           <NA>   \n",
       "3 2024-07-24 -3875.00           <NA>   \n",
       "5 2024-07-18  -330.00            127   \n",
       "7 2024-07-08 -9975.00           <NA>   \n",
       "\n",
       "                                         Description  Transaction_Type  \n",
       "0           STATE FARM RO 27 SFPP 15 S 1074398715 SV                 0  \n",
       "1  ONLINE TRANSFER REF #IB0NYCH2M4 TO VISA SIGNAT...                 0  \n",
       "3  ONLINE TRANSFER TO 9LLABS LLC REF #IB0NYCGZRL ...                 0  \n",
       "5                    DEPOSITED OR CASHED CHECK # 127                 0  \n",
       "7  ONLINE TRANSFER TO 9LLABS LLC REF #IB0NSKMG2J ...                 0  "
      ]
     },
     "execution_count": 10,
     "metadata": {},
     "output_type": "execute_result"
    }
   ],
   "source": [
    "account_activity_df.head(n = 5)"
   ]
  },
  {
   "cell_type": "code",
   "execution_count": 11,
   "id": "76a2050c",
   "metadata": {},
   "outputs": [
    {
     "data": {
      "text/html": [
       "<div>\n",
       "<style scoped>\n",
       "    .dataframe tbody tr th:only-of-type {\n",
       "        vertical-align: middle;\n",
       "    }\n",
       "\n",
       "    .dataframe tbody tr th {\n",
       "        vertical-align: top;\n",
       "    }\n",
       "\n",
       "    .dataframe thead th {\n",
       "        text-align: right;\n",
       "    }\n",
       "</style>\n",
       "<table border=\"1\" class=\"dataframe\">\n",
       "  <thead>\n",
       "    <tr style=\"text-align: right;\">\n",
       "      <th></th>\n",
       "      <th>Date</th>\n",
       "      <th>Amount</th>\n",
       "      <th>Description</th>\n",
       "      <th>Transaction_Type</th>\n",
       "    </tr>\n",
       "  </thead>\n",
       "  <tbody>\n",
       "    <tr>\n",
       "      <th>0</th>\n",
       "      <td>2025-06-30</td>\n",
       "      <td>-11.02</td>\n",
       "      <td>PONY MAILBOX AND BUSINESSBELLEVUE WA</td>\n",
       "      <td>1</td>\n",
       "    </tr>\n",
       "    <tr>\n",
       "      <th>1</th>\n",
       "      <td>2025-06-29</td>\n",
       "      <td>-150.00</td>\n",
       "      <td>DELTA AIR Upgrades SEATTLE WA</td>\n",
       "      <td>1</td>\n",
       "    </tr>\n",
       "    <tr>\n",
       "      <th>2</th>\n",
       "      <td>2025-06-29</td>\n",
       "      <td>-6.33</td>\n",
       "      <td>AMAZON MKTPL*N35R76AA2 Amzn.com/billWA</td>\n",
       "      <td>1</td>\n",
       "    </tr>\n",
       "    <tr>\n",
       "      <th>3</th>\n",
       "      <td>2025-06-29</td>\n",
       "      <td>-6.33</td>\n",
       "      <td>AMAZON MKTPL*N34153A22 Amzn.com/billWA</td>\n",
       "      <td>1</td>\n",
       "    </tr>\n",
       "    <tr>\n",
       "      <th>4</th>\n",
       "      <td>2025-06-29</td>\n",
       "      <td>-13.17</td>\n",
       "      <td>AMAZON MKTPL*N37EB3J32 Amzn.com/billWA</td>\n",
       "      <td>1</td>\n",
       "    </tr>\n",
       "  </tbody>\n",
       "</table>\n",
       "</div>"
      ],
      "text/plain": [
       "        Date  Amount                             Description  Transaction_Type\n",
       "0 2025-06-30  -11.02    PONY MAILBOX AND BUSINESSBELLEVUE WA                 1\n",
       "1 2025-06-29 -150.00           DELTA AIR Upgrades SEATTLE WA                 1\n",
       "2 2025-06-29   -6.33  AMAZON MKTPL*N35R76AA2 Amzn.com/billWA                 1\n",
       "3 2025-06-29   -6.33  AMAZON MKTPL*N34153A22 Amzn.com/billWA                 1\n",
       "4 2025-06-29  -13.17  AMAZON MKTPL*N37EB3J32 Amzn.com/billWA                 1"
      ]
     },
     "execution_count": 11,
     "metadata": {},
     "output_type": "execute_result"
    }
   ],
   "source": [
    "creditcard_df.head(n = 5)"
   ]
  },
  {
   "cell_type": "code",
   "execution_count": 12,
   "id": "68d60aff",
   "metadata": {},
   "outputs": [],
   "source": [
    "os.makedirs(\"../data/raw\", exist_ok = True)"
   ]
  },
  {
   "cell_type": "code",
   "execution_count": 13,
   "id": "a87a04a3",
   "metadata": {},
   "outputs": [],
   "source": [
    "account_activity_df.to_csv(\"../data/raw/account.csv\", index = False)\n",
    "\n",
    "creditcard_df.to_csv(\"../data/raw/creditcard.csv\", index = False)\n",
    "\n",
    "merch_df.to_csv(\"../data/raw/merch.csv\", index = False)"
   ]
  }
 ],
 "metadata": {
  "kernelspec": {
   "display_name": "venv",
   "language": "python",
   "name": "python3"
  },
  "language_info": {
   "codemirror_mode": {
    "name": "ipython",
    "version": 3
   },
   "file_extension": ".py",
   "mimetype": "text/x-python",
   "name": "python",
   "nbconvert_exporter": "python",
   "pygments_lexer": "ipython3",
   "version": "3.13.1"
  }
 },
 "nbformat": 4,
 "nbformat_minor": 5
}
